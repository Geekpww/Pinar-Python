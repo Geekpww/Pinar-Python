{
 "cells": [
  {
   "attachments": {},
   "cell_type": "markdown",
   "id": "trying-bronze",
   "metadata": {},
   "source": [
    "# Getting started with PINAR"
   ]
  },
  {
   "attachments": {},
   "cell_type": "markdown",
   "id": "multiple-radical",
   "metadata": {},
   "source": [
    "This is a short summary of the guides to help you find the information that you need to get started.\n",
    "To learn more about PINAR, have a look at the [introduction](../guide/Guide_Introduction.ipynb). You can also have a look at the paper [repository](https://github.com/MamarezaAlipour/pinar_papers) to get an overview of research projects."
   ]
  },
  {
   "attachments": {},
   "cell_type": "markdown",
   "id": "israeli-street",
   "metadata": {},
   "source": [
    "## Installation\n",
    "The first step to getting started is installing PINAR. To do so you will need:\n",
    "1. To get the lastest release from the git repository [PINAR releases](https://github.com/MamarezaAlipour/pinar_python/releases) or clone the project with git if you are interested in contributing to the development.\n",
    "2. To build a conda environment with the dependencies needed by PINAR. \n",
    "\n",
    "For details see the [Installation Instructions](install.rst).\n",
    "\n",
    "If you need to run a model on a computational cluster, have a look at [this guide](Guide_Euler.ipynb) to install PINAR and run your jobs."
   ]
  },
  {
   "attachments": {},
   "cell_type": "markdown",
   "id": "future-distinction",
   "metadata": {},
   "source": [
    "## Programming in Python\n",
    "It is best to have some basic knowledge of Python programming before starting with PINAR. But if you need a quick introduction or reminder, have a look at the short [Python Tutorial](../tutorial/0_intro_python.ipynb). Also have a look at the python [Python Dos and Don't](../guide/Guide_PythonDos-n-Donts.ipynb) guide and at the [Python Performance Guide](../guide/Guide_Py_Performance.ipynb) for best practice tips."
   ]
  },
  {
   "attachments": {},
   "cell_type": "markdown",
   "id": "touched-penetration",
   "metadata": {},
   "source": [
    "## Tutorials\n",
    "A good way to start using PINAR is to have a look at the [Tutorials](https://github.com/MamarezaAlipour/pinar_python/tree/main/doc/tutorial). The [Main Tutorial](../tutorial/1_main_pinar.ipynb) will introduce you the structure of PINAR and how to calculate you first impacts, as well as your first appraisal of adaptation options. You can then look at the specific tutorials for each module (for example if you are interested in a specific hazard, like [Tropical Cyclones](../tutorial/pinar_hazard_TropCyclone.ipynb), or in learning to [estimate the value of asset exposure](../tutorial/pinar_entity_LitPop.ipynb),...). "
   ]
  },
  {
   "attachments": {},
   "cell_type": "markdown",
   "id": "0cc77b19",
   "metadata": {},
   "source": [
    "## Documentation\n",
    "\n",
    "Note that the documentation has several versions: 'latest', 'stable' and explicit version numbers, such as 'v3.1.1', in the url path. 'latest' is created from the 'develop' branch and has the latest changes of the developers, 'stable' from the latest release."
   ]
  }
 ],
 "metadata": {
  "kernelspec": {
   "display_name": "pinar_env",
   "language": "python",
   "name": "python3"
  },
  "language_info": {
   "codemirror_mode": {
    "name": "ipython",
    "version": 3
   },
   "file_extension": ".py",
   "mimetype": "text/x-python",
   "name": "python",
   "nbconvert_exporter": "python",
   "pygments_lexer": "ipython3",
   "version": "3.8.15 | packaged by conda-forge | (default, Nov 22 2022, 08:49:06) \n[Clang 14.0.6 ]"
  },
  "vscode": {
   "interpreter": {
    "hash": "fe76ddefd4ac3b756bca82b2809865e7c67c346a46477cb9eec4ead581742ab6"
   }
  }
 },
 "nbformat": 4,
 "nbformat_minor": 5
}
