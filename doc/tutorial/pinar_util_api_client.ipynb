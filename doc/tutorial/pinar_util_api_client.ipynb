{
 "cells": [
  {
   "attachments": {},
   "cell_type": "markdown",
   "metadata": {},
   "source": [
    "# Data API\n"
   ]
  },
  {
   "attachments": {},
   "cell_type": "markdown",
   "metadata": {},
   "source": [
    "This tutorial is separated into three main parts: the first two parts shows how to find and get data to do impact calculations and should be enough for most users. The third part provides more detailed information on how the API is built.\n",
    "\n",
    "## Contents\n",
    "\n",
    "- [Finding Datasets](#Finding-datasets)\n",
    "    - [Data types and data type groups](#Data-types-and-data-type-groups)\n",
    "    - [Datasets and Properties](#Datasets-and-Properties)\n",
    "- [Basic impact calculation](#Basic-impact-calculation)\n",
    "    - [Wrapper functions to open datasets as PINAR objects](#Wrapper-functions-to-open-datasets-as-PINAR-objects)\n",
    "    - [Calculate the impact](#Calculate-the-impact)\n",
    "- [Technical Information](#Technical-Information)\n",
    "    - [Server](#Server)\n",
    "    - [Client](#Client)\n",
    "    - [Metadata](#Metadata)\n",
    "    - [Download](#Download)"
   ]
  },
  {
   "attachments": {},
   "cell_type": "markdown",
   "metadata": {},
   "source": [
    "## Finding datasets"
   ]
  },
  {
   "cell_type": "code",
   "execution_count": 3,
   "metadata": {},
   "outputs": [],
   "source": [
    "from pinar.util.api_client import Client\n",
    "client = Client()"
   ]
  },
  {
   "attachments": {},
   "cell_type": "markdown",
   "metadata": {},
   "source": [
    "### Data types and data type groups\n",
    "The datasets are first separated into 'data_type_groups', which represent the main classes of PINAR (exposures, hazard, vulnerability, ...). So far, data is available for exposures and hazard. Then, data is separated into data_types, representing the different hazards and exposures available in PINAR"
   ]
  },
  {
   "cell_type": "code",
   "execution_count": 2,
   "metadata": {},
   "outputs": [
    {
     "data": {
      "text/html": [
       "<div>\n",
       "<style scoped>\n",
       "    .dataframe tbody tr th:only-of-type {\n",
       "        vertical-align: middle;\n",
       "    }\n",
       "\n",
       "    .dataframe tbody tr th {\n",
       "        vertical-align: top;\n",
       "    }\n",
       "\n",
       "    .dataframe thead th {\n",
       "        text-align: right;\n",
       "    }\n",
       "</style>\n",
       "<table border=\"1\" class=\"dataframe\">\n",
       "  <thead>\n",
       "    <tr style=\"text-align: right;\">\n",
       "      <th></th>\n",
       "      <th>data_type</th>\n",
       "      <th>data_type_group</th>\n",
       "      <th>status</th>\n",
       "      <th>description</th>\n",
       "      <th>properties</th>\n",
       "    </tr>\n",
       "  </thead>\n",
       "  <tbody>\n",
       "    <tr>\n",
       "      <th>3</th>\n",
       "      <td>crop_production</td>\n",
       "      <td>exposures</td>\n",
       "      <td>active</td>\n",
       "      <td>None</td>\n",
       "      <td>[{'property': 'crop', 'mandatory': True, 'desc...</td>\n",
       "    </tr>\n",
       "    <tr>\n",
       "      <th>0</th>\n",
       "      <td>litpop</td>\n",
       "      <td>exposures</td>\n",
       "      <td>active</td>\n",
       "      <td>None</td>\n",
       "      <td>[{'property': 'res_arcsec', 'mandatory': False...</td>\n",
       "    </tr>\n",
       "    <tr>\n",
       "      <th>5</th>\n",
       "      <td>centroids</td>\n",
       "      <td>hazard</td>\n",
       "      <td>active</td>\n",
       "      <td>None</td>\n",
       "      <td>[]</td>\n",
       "    </tr>\n",
       "    <tr>\n",
       "      <th>2</th>\n",
       "      <td>river_flood</td>\n",
       "      <td>hazard</td>\n",
       "      <td>active</td>\n",
       "      <td>None</td>\n",
       "      <td>[{'property': 'res_arcsec', 'mandatory': False...</td>\n",
       "    </tr>\n",
       "    <tr>\n",
       "      <th>4</th>\n",
       "      <td>storm_europe</td>\n",
       "      <td>hazard</td>\n",
       "      <td>active</td>\n",
       "      <td>None</td>\n",
       "      <td>[{'property': 'country_iso3alpha', 'mandatory'...</td>\n",
       "    </tr>\n",
       "    <tr>\n",
       "      <th>1</th>\n",
       "      <td>tropical_cyclone</td>\n",
       "      <td>hazard</td>\n",
       "      <td>active</td>\n",
       "      <td>None</td>\n",
       "      <td>[{'property': 'res_arcsec', 'mandatory': True,...</td>\n",
       "    </tr>\n",
       "  </tbody>\n",
       "</table>\n",
       "</div>"
      ],
      "text/plain": [
       "          data_type data_type_group  status description  \\\n",
       "3   crop_production       exposures  active        None   \n",
       "0            litpop       exposures  active        None   \n",
       "5         centroids          hazard  active        None   \n",
       "2       river_flood          hazard  active        None   \n",
       "4      storm_europe          hazard  active        None   \n",
       "1  tropical_cyclone          hazard  active        None   \n",
       "\n",
       "                                          properties  \n",
       "3  [{'property': 'crop', 'mandatory': True, 'desc...  \n",
       "0  [{'property': 'res_arcsec', 'mandatory': False...  \n",
       "5                                                 []  \n",
       "2  [{'property': 'res_arcsec', 'mandatory': False...  \n",
       "4  [{'property': 'country_iso3alpha', 'mandatory'...  \n",
       "1  [{'property': 'res_arcsec', 'mandatory': True,...  "
      ]
     },
     "execution_count": 2,
     "metadata": {},
     "output_type": "execute_result"
    }
   ],
   "source": [
    "import pandas as pd\n",
    "data_types = client.list_data_type_infos()\n",
    "\n",
    "dtf = pd.DataFrame(data_types)\n",
    "dtf.sort_values(['data_type_group', 'data_type'])"
   ]
  },
  {
   "attachments": {},
   "cell_type": "markdown",
   "metadata": {},
   "source": [
    "### Datasets and Properties\n",
    "For each data type, the single datasets can be differentiated based on properties. The following function provides a table listing the properties and possible values. This table does not provide information on properties that can be combined but the search can be refined in order to find properties to query a unique dataset. Note that a maximum of 10 property values are shown here, but many more countries are available for example."
   ]
  },
  {
   "cell_type": "code",
   "execution_count": 3,
   "metadata": {},
   "outputs": [],
   "source": [
    "litpop_dataset_infos = client.list_dataset_infos(data_type='litpop')"
   ]
  },
  {
   "cell_type": "code",
   "execution_count": 4,
   "metadata": {},
   "outputs": [],
   "source": [
    "all_properties = client.get_property_values(litpop_dataset_infos)"
   ]
  },
  {
   "cell_type": "code",
   "execution_count": 5,
   "metadata": {},
   "outputs": [
    {
     "data": {
      "text/plain": [
       "dict_keys(['res_arcsec', 'exponents', 'fin_mode', 'spatial_coverage', 'country_iso3alpha', 'country_name', 'country_iso3num'])"
      ]
     },
     "execution_count": 5,
     "metadata": {},
     "output_type": "execute_result"
    }
   ],
   "source": [
    "all_properties.keys()"
   ]
  },
  {
   "attachments": {},
   "cell_type": "markdown",
   "metadata": {},
   "source": [
    "#### Refining the search:"
   ]
  },
  {
   "cell_type": "code",
   "execution_count": 6,
   "metadata": {
    "scrolled": true
   },
   "outputs": [
    {
     "data": {
      "text/plain": [
       "{'res_arcsec': ['150'],\n",
       " 'exponents': ['(0,1)', '(1,1)', '(3,0)'],\n",
       " 'fin_mode': ['pop', 'pc'],\n",
       " 'spatial_coverage': ['global']}"
      ]
     },
     "execution_count": 6,
     "metadata": {},
     "output_type": "execute_result"
    }
   ],
   "source": [
    "# as datasets are usually available per country, chosing a country or global dataset reduces the options\n",
    "# here we want to see which datasets are available for litpop globally:\n",
    "client.get_property_values(litpop_dataset_infos, known_property_values = {'spatial_coverage':'global'})"
   ]
  },
  {
   "cell_type": "code",
   "execution_count": 7,
   "metadata": {},
   "outputs": [
    {
     "data": {
      "text/plain": [
       "{'res_arcsec': ['150'],\n",
       " 'exponents': ['(3,0)', '(0,1)', '(1,1)'],\n",
       " 'fin_mode': ['pc', 'pop'],\n",
       " 'spatial_coverage': ['country'],\n",
       " 'country_iso3alpha': ['CHE'],\n",
       " 'country_name': ['Switzerland'],\n",
       " 'country_iso3num': ['756']}"
      ]
     },
     "execution_count": 7,
     "metadata": {},
     "output_type": "execute_result"
    }
   ],
   "source": [
    "#and here for Switzerland:\n",
    "client.get_property_values(litpop_dataset_infos, known_property_values = {'country_name':'Switzerland'})"
   ]
  },
  {
   "attachments": {},
   "cell_type": "markdown",
   "metadata": {},
   "source": [
    "## Basic impact calculation\n",
    "We here show how to make a basic impact calculation with tropical cyclones for Haiti, for the year 2040, rcp4.5  and generated with 10 synthetic tracks. For more technical details on the API, see below.\n",
    "\n"
   ]
  },
  {
   "attachments": {},
   "cell_type": "markdown",
   "metadata": {},
   "source": [
    "### Wrapper functions to open datasets as PINAR objects"
   ]
  },
  {
   "attachments": {},
   "cell_type": "markdown",
   "metadata": {},
   "source": [
    "#### The wrapper functions client.get_hazard() \n",
    "gets the dataset information, downloads the data and opens it as a hazard instance\n"
   ]
  },
  {
   "cell_type": "code",
   "execution_count": 8,
   "metadata": {},
   "outputs": [
    {
     "data": {
      "text/plain": [
       "{'res_arcsec': ['150'],\n",
       " 'pinar_scenario': ['rcp26', 'rcp45', 'rcp85', 'historical', 'rcp60'],\n",
       " 'ref_year': ['2040', '2060', '2080'],\n",
       " 'nb_synth_tracks': ['50', '10'],\n",
       " 'spatial_coverage': ['country'],\n",
       " 'tracks_year_range': ['1980_2020'],\n",
       " 'country_iso3alpha': ['HTI'],\n",
       " 'country_name': ['Haiti'],\n",
       " 'country_iso3num': ['332'],\n",
       " 'resolution': ['150 arcsec']}"
      ]
     },
     "execution_count": 8,
     "metadata": {},
     "output_type": "execute_result"
    }
   ],
   "source": [
    "tc_dataset_infos = client.list_dataset_infos(data_type='tropical_cyclone')\n",
    "client.get_property_values(tc_dataset_infos, known_property_values = {'country_name':'Haiti'})"
   ]
  },
  {
   "cell_type": "code",
   "execution_count": null,
   "metadata": {},
   "outputs": [],
   "source": [
    "client = Client()\n",
    "tc_haiti = client.get_hazard('tropical_cyclone', properties={'country_name': 'Haiti', 'pinar_scenario': 'rcp45', 'ref_year':'2040', 'nb_synth_tracks':'10'})\n",
    "tc_haiti.plot_intensity(0);"
   ]
  },
  {
   "attachments": {},
   "cell_type": "markdown",
   "metadata": {},
   "source": [
    "#### The wrapper functions client.get_litpop() \n",
    "gets the default litpop, with exponents (1,1) and 'produced capital' as financial mode. If no country is given, the global dataset will be downloaded."
   ]
  },
  {
   "cell_type": "code",
   "execution_count": 10,
   "metadata": {},
   "outputs": [],
   "source": [
    "litpop_default = client.get_property_values(litpop_dataset_infos, known_property_values = {'fin_mode':'pc', 'exponents':'(1,1)'})"
   ]
  },
  {
   "cell_type": "code",
   "execution_count": null,
   "metadata": {
    "scrolled": true
   },
   "outputs": [],
   "source": [
    "litpop = client.get_litpop(country='Haiti')"
   ]
  },
  {
   "attachments": {},
   "cell_type": "markdown",
   "metadata": {},
   "source": [
    "#### Get the default impact function for tropical cyclones"
   ]
  },
  {
   "cell_type": "code",
   "execution_count": 12,
   "metadata": {},
   "outputs": [
    {
     "name": "stdout",
     "output_type": "stream",
     "text": [
      "2022-01-31 22:30:21,359 - pinar.entity.impact_funcs.base - WARNING - For intensity = 0, mdd != 0 or paa != 0. Consider shifting the origin of the intensity scale. In impact.calc the impact is always null at intensity = 0.\n"
     ]
    },
    {
     "data": {
      "image/png": "[encoded data removed]",
      "text/plain": [
       "<Figure size 432x288 with 1 Axes>"
      ]
     },
     "metadata": {
      "needs_background": "light"
     },
     "output_type": "display_data"
    }
   ],
   "source": [
    "from pinar.entity.impact_funcs import ImpactFuncSet, ImpfTropCyclone\n",
    "\n",
    "imp_fun = ImpfTropCyclone.from_emanuel_usa()\n",
    "imp_fun.check()\n",
    "imp_fun.plot()\n",
    "\n",
    "imp_fun_set = ImpactFuncSet([imp_fun])\n",
    "\n",
    "litpop.impact_funcs = imp_fun_set"
   ]
  },
  {
   "attachments": {},
   "cell_type": "markdown",
   "metadata": {},
   "source": [
    "### Calculate the impact"
   ]
  },
  {
   "cell_type": "code",
   "execution_count": 13,
   "metadata": {},
   "outputs": [],
   "source": [
    "from pinar.engine import ImpactCalc\n",
    "impact = ImpactCalc(litpop, imp_fun_set, tc_haiti).impact()"
   ]
  },
  {
   "attachments": {},
   "cell_type": "markdown",
   "metadata": {},
   "source": [
    "#### Getting other Exposures"
   ]
  },
  {
   "cell_type": "code",
   "execution_count": 14,
   "metadata": {},
   "outputs": [
    {
     "data": {
      "text/plain": [
       "{'crop': ['whe', 'soy', 'ric', 'mai'],\n",
       " 'irrigation_status': ['noirr', 'firr'],\n",
       " 'unit': ['USD', 'Tonnes'],\n",
       " 'spatial_coverage': ['global']}"
      ]
     },
     "execution_count": 14,
     "metadata": {},
     "output_type": "execute_result"
    }
   ],
   "source": [
    "crop_dataset_infos = client.list_dataset_infos(data_type='crop_production')\n",
    "\n",
    "client.get_property_values(crop_dataset_infos)"
   ]
  },
  {
   "cell_type": "code",
   "execution_count": 15,
   "metadata": {},
   "outputs": [],
   "source": [
    "rice_exposure = client.get_exposures(exposures_type='crop_production', properties = {'crop':'ric', 'unit': 'USD','irrigation_status': 'noirr'})"
   ]
  },
  {
   "attachments": {},
   "cell_type": "markdown",
   "metadata": {},
   "source": [
    "### Getting base centroids to generate new hazard files"
   ]
  },
  {
   "cell_type": "code",
   "execution_count": 13,
   "metadata": {},
   "outputs": [
    {
     "name": "stdout",
     "output_type": "stream",
     "text": [
      "https://pinar.ethz.ch/data-api/v1/dataset\tdata_type=centroids\textent=(-180, 180, -90, 90)\tlimit=100000\tname=None\tres_arcsec_land=150\tres_arcsec_ocean=1800\tstatus=active\tversion=None\n",
      "2022-07-01 15:59:42,013 - pinar.hazard.centroids.centr - INFO - Reading /Users/szelie/pinar/data/centroids/earth_centroids_150asland_1800asoceans_distcoast_regions/v1/earth_centroids_150asland_1800asoceans_distcoast_region.hdf5\n",
      "2022-07-01 15:59:44,273 - pinar.util.plot - WARNING - Error parsing coordinate system 'GEOGCRS[\"WGS 84\",ENSEMBLE[\"World Geodetic System 1984 ensemble\",MEMBER[\"World Geodetic System 1984 (Transit)\"],MEMBER[\"World Geodetic System 1984 (G730)\"],MEMBER[\"World Geodetic System 1984 (G873)\"],MEMBER[\"World Geodetic System 1984 (G1150)\"],MEMBER[\"World Geodetic System 1984 (G1674)\"],MEMBER[\"World Geodetic System 1984 (G1762)\"],MEMBER[\"World Geodetic System 1984 (G2139)\"],ELLIPSOID[\"WGS 84\",6378137,298.257223563,LENGTHUNIT[\"metre\",1]],ENSEMBLEACCURACY[2.0]],PRIMEM[\"Greenwich\",0,ANGLEUNIT[\"degree\",0.0174532925199433]],CS[ellipsoidal,2],AXIS[\"geodetic latitude (Lat)\",north,ORDER[1],ANGLEUNIT[\"degree\",0.0174532925199433]],AXIS[\"geodetic longitude (Lon)\",east,ORDER[2],ANGLEUNIT[\"degree\",0.0174532925199433]],USAGE[SCOPE[\"Horizontal component of 3D system.\"],AREA[\"World.\"],BBOX[-90,-180,90,180]],ID[\"EPSG\",4326]]'. Using projection PlateCarree in plot.\n"
     ]
    },
    {
     "data": {
      "text/plain": [
       "<GeoAxesSubplot:>"
      ]
     },
     "execution_count": 13,
     "metadata": {},
     "output_type": "execute_result"
    },
    {
     "data": {
      "image/png": "[encoded data removed]",
      "text/plain": [
       "<Figure size 648x936 with 1 Axes>"
      ]
     },
     "metadata": {
      "needs_background": "light"
     },
     "output_type": "display_data"
    }
   ],
   "source": [
    "centroids = client.get_centroids()\n",
    "centroids.plot()"
   ]
  },
  {
   "attachments": {},
   "cell_type": "markdown",
   "metadata": {},
   "source": [
    "For many hazards, limiting the latitude extent to [-60,60] is sufficient and will reduce the computational ressources required"
   ]
  },
  {
   "cell_type": "code",
   "execution_count": 12,
   "metadata": {},
   "outputs": [
    {
     "name": "stdout",
     "output_type": "stream",
     "text": [
      "https://pinar.ethz.ch/data-api/v1/dataset\tdata_type=centroids\textent=(-180, 180, -90, 90)\tlimit=100000\tname=None\tres_arcsec_land=150\tres_arcsec_ocean=1800\tstatus=active\tversion=None\n",
      "2022-07-01 15:59:27,602 - pinar.hazard.centroids.centr - INFO - Reading /Users/szelie/pinar/data/centroids/earth_centroids_150asland_1800asoceans_distcoast_regions/v1/earth_centroids_150asland_1800asoceans_distcoast_region.hdf5\n",
      "2022-07-01 15:59:29,255 - pinar.util.plot - WARNING - Error parsing coordinate system 'GEOGCRS[\"WGS 84\",ENSEMBLE[\"World Geodetic System 1984 ensemble\",MEMBER[\"World Geodetic System 1984 (Transit)\"],MEMBER[\"World Geodetic System 1984 (G730)\"],MEMBER[\"World Geodetic System 1984 (G873)\"],MEMBER[\"World Geodetic System 1984 (G1150)\"],MEMBER[\"World Geodetic System 1984 (G1674)\"],MEMBER[\"World Geodetic System 1984 (G1762)\"],MEMBER[\"World Geodetic System 1984 (G2139)\"],ELLIPSOID[\"WGS 84\",6378137,298.257223563,LENGTHUNIT[\"metre\",1]],ENSEMBLEACCURACY[2.0]],PRIMEM[\"Greenwich\",0,ANGLEUNIT[\"degree\",0.0174532925199433]],CS[ellipsoidal,2],AXIS[\"geodetic latitude (Lat)\",north,ORDER[1],ANGLEUNIT[\"degree\",0.0174532925199433]],AXIS[\"geodetic longitude (Lon)\",east,ORDER[2],ANGLEUNIT[\"degree\",0.0174532925199433]],USAGE[SCOPE[\"Horizontal component of 3D system.\"],AREA[\"World.\"],BBOX[-90,-180,90,180]],ID[\"EPSG\",4326]]'. Using projection PlateCarree in plot.\n"
     ]
    },
    {
     "data": {
      "text/plain": [
       "<GeoAxesSubplot:>"
      ]
     },
     "execution_count": 12,
     "metadata": {},
     "output_type": "execute_result"
    },
    {
     "data": {
      "image/png": "[encoded data removed]",
      "text/plain": [
       "<Figure size 648x936 with 1 Axes>"
      ]
     },
     "metadata": {
      "needs_background": "light"
     },
     "output_type": "display_data"
    }
   ],
   "source": [
    "centroids_nopoles = client.get_centroids(extent=[-180,180,-60,50])\n",
    "centroids_nopoles.plot()"
   ]
  },
  {
   "attachments": {},
   "cell_type": "markdown",
   "metadata": {},
   "source": [
    "centroids are also available per country:"
   ]
  },
  {
   "cell_type": "code",
   "execution_count": null,
   "metadata": {
    "scrolled": false
   },
   "outputs": [],
   "source": [
    "centroids_hti = client.get_centroids(country='HTI')"
   ]
  },
  {
   "attachments": {},
   "cell_type": "markdown",
   "metadata": {},
   "source": [
    "## Technical Information\n",
    "\n",
    "For programmatical access to the PINAR data API there is a specific REST call wrapper class: `pinar.util.client.Client`."
   ]
  },
  {
   "attachments": {},
   "cell_type": "markdown",
   "metadata": {},
   "source": [
    "### Server\n",
    "The PINAR data file server is hosted on https://data.iac.ethz.ch that can be accessed via a REST API at https://pinar.ethz.ch.\n",
    "For REST API details, see the [documentation](https://pinar.ethz.ch/rest/docs)."
   ]
  },
  {
   "attachments": {},
   "cell_type": "markdown",
   "metadata": {},
   "source": [
    "### Client"
   ]
  },
  {
   "cell_type": "code",
   "execution_count": 16,
   "metadata": {},
   "outputs": [
    {
     "data": {
      "text/plain": [
       "\u001b[1;31mInit signature:\u001b[0m \u001b[0mClient\u001b[0m\u001b[1;33m(\u001b[0m\u001b[1;33m)\u001b[0m\u001b[1;33m\u001b[0m\u001b[1;33m\u001b[0m\u001b[0m\n",
       "\u001b[1;31mDocstring:\u001b[0m     \n",
       "Python wrapper around REST calls to the PINAR data API server.\n",
       "    \n",
       "\u001b[1;31mInit docstring:\u001b[0m\n",
       "Constructor of Client.\n",
       "\n",
       "Data API host and chunk_size (for download) are configurable values.\n",
       "Default values are 'pinar.ethz.ch' and 8096 respectively.\n",
       "\u001b[1;31mFile:\u001b[0m           c:\\users\\me\\polybox\\workshop\\pinar_python\\pinar\\util\\api_client.py\n",
       "\u001b[1;31mType:\u001b[0m           type\n",
       "\u001b[1;31mSubclasses:\u001b[0m     \n"
      ]
     },
     "metadata": {},
     "output_type": "display_data"
    }
   ],
   "source": [
    "Client?"
   ]
  },
  {
   "cell_type": "code",
   "execution_count": 17,
   "metadata": {},
   "outputs": [
    {
     "data": {
      "text/plain": [
       "8192"
      ]
     },
     "execution_count": 17,
     "metadata": {},
     "output_type": "execute_result"
    }
   ],
   "source": [
    "client = Client()\n",
    "client.chunk_size"
   ]
  },
  {
   "attachments": {},
   "cell_type": "markdown",
   "metadata": {},
   "source": [
    "The url to the API server and the chunk size for the file download can be configured in 'pinar.conf'. Just replace the corresponding default values:\n",
    "\n",
    "```json\n",
    "    \"data_api\": {\n",
    "        \"host\": \"https://pinar.ethz.ch\",\n",
    "        \"chunk_size\": 8192,\n",
    "        \"cache_db\": \"{local_data.system}/.downloads.db\"\n",
    "    }\n",
    "```\n",
    "\n",
    "The other configuration value affecting the data_api client, `cache_db`, is the path to an SQLite database file, which is keeping track of the files that are successfully downloaded from the api server. Before the Client attempts to download any file from the server, it checks whether the file has been downloaded before and if so, whether the previously downloaded file still looks good (i.e., size and time stamp are as expected). If all of this is the case, the file is simply read from disk without submitting another request."
   ]
  },
  {
   "attachments": {},
   "cell_type": "markdown",
   "metadata": {
    "tags": []
   },
   "source": [
    "### Metadata\n",
    "\n",
    "#### Unique Identifiers\n",
    "Any dataset can be identified with **data_type**, **name** and **version**. The combination of the three is unique in the API servers' underlying database.\n",
    "However, sometimes the name is already enough for identification.\n",
    "All datasets have a UUID, a universally unique identifier, which is part of their individual url. "
   ]
  },
  {
   "cell_type": "code",
   "execution_count": 18,
   "metadata": {},
   "outputs": [
    {
     "data": {
      "text/plain": [
       "DatasetInfo(uuid='b1c76120-4e60-4d8f-99c0-7e1e7b7860ec', data_type=DataTypeShortInfo(data_type='litpop', data_type_group='exposures'), name='LitPop_assets_pc_150arcsec_SGS', version='v1', status='active', properties={'res_arcsec': '150', 'exponents': '(3,0)', 'fin_mode': 'pc', 'spatial_coverage': 'country', 'date_creation': '2021-09-23', 'pinar_version': 'v2.2.0', 'country_iso3alpha': 'SGS', 'country_name': 'South Georgia and the South Sandwich Islands', 'country_iso3num': '239'}, files=[FileInfo(uuid='b1c76120-4e60-4d8f-99c0-7e1e7b7860ec', url='https://data.iac.ethz.ch/pinar/b1c76120-4e60-4d8f-99c0-7e1e7b7860ec/LitPop_assets_pc_150arcsec_SGS.hdf5', file_name='LitPop_assets_pc_150arcsec_SGS.hdf5', file_format='hdf5', file_size=1086488, check_sum='md5:27bc1846362227350495e3d946dfad5e')], doi=None, description=\"LitPop asset value exposure per country: Gridded physical asset values by country, at a resolution of 150 arcsec. Values are total produced capital values disaggregated proportionally to the cube of nightlight intensity (Lit^3, based on NASA Earth at Night). The following values were used as parameters in the LitPop.from_countries() method:{'total_values': 'None', 'admin1_calc': 'False','reference_year': '2018', 'gpw_version': '4.11'}Reference: Eberenz et al., 2020. https://doi.org/10.5194/essd-12-817-2020\", license='Attribution 4.0 International (CC BY 4.0)', activation_date='2021-09-13 09:08:28.358559+00:00', expiration_date=None)"
      ]
     },
     "execution_count": 18,
     "metadata": {},
     "output_type": "execute_result"
    }
   ],
   "source": [
    "client.get_dataset_info_by_uuid('b1c76120-4e60-4d8f-99c0-7e1e7b7860ec')"
   ]
  },
  {
   "attachments": {},
   "cell_type": "markdown",
   "metadata": {},
   "source": [
    "or by filtering:"
   ]
  },
  {
   "attachments": {},
   "cell_type": "markdown",
   "metadata": {
    "tags": []
   },
   "source": [
    "#### Data Set Status\n",
    "The datasets of API may have the following stati:\n",
    "- **active**: the default for real life data\n",
    "- **preliminary**: when the dataset is already uploaded but some information or file is still missing\n",
    "- **expired**: when a dataset is inactivated again\n",
    "- **test_dataset**: data sets that are used in unit or integration tests have this status in order to be taken seriously by accident\n",
    "When collecting a list of datasets with `get_datasets`, the default dataset status will be 'active'. With the argument `status=None` this filter can be turned off."
   ]
  },
  {
   "attachments": {},
   "cell_type": "markdown",
   "metadata": {},
   "source": [
    "#### DatasetInfo Objects and DataFrames\n",
    "\n",
    "As stated above `get_dataset` (or `get_dataset_by_uuid`) return a `DatasetInfo` object and `get_datasets` a list thereof."
   ]
  },
  {
   "cell_type": "code",
   "execution_count": 19,
   "metadata": {},
   "outputs": [
    {
     "data": {
      "text/plain": [
       "\u001b[1;31mInit signature:\u001b[0m\n",
       "\u001b[0mDatasetInfo\u001b[0m\u001b[1;33m(\u001b[0m\u001b[1;33m\n",
       "\u001b[0m    \u001b[0muuid\u001b[0m\u001b[1;33m:\u001b[0m \u001b[0mstr\u001b[0m\u001b[1;33m,\u001b[0m\u001b[1;33m\n",
       "\u001b[0m    \u001b[0mdata_type\u001b[0m\u001b[1;33m:\u001b[0m \u001b[0mpinar\u001b[0m\u001b[1;33m.\u001b[0m\u001b[0mutil\u001b[0m\u001b[1;33m.\u001b[0m\u001b[0mapi_client\u001b[0m\u001b[1;33m.\u001b[0m\u001b[0mDataTypeShortInfo\u001b[0m\u001b[1;33m,\u001b[0m\u001b[1;33m\n",
       "\u001b[0m    \u001b[0mname\u001b[0m\u001b[1;33m:\u001b[0m \u001b[0mstr\u001b[0m\u001b[1;33m,\u001b[0m\u001b[1;33m\n",
       "\u001b[0m    \u001b[0mversion\u001b[0m\u001b[1;33m:\u001b[0m \u001b[0mstr\u001b[0m\u001b[1;33m,\u001b[0m\u001b[1;33m\n",
       "\u001b[0m    \u001b[0mstatus\u001b[0m\u001b[1;33m:\u001b[0m \u001b[0mstr\u001b[0m\u001b[1;33m,\u001b[0m\u001b[1;33m\n",
       "\u001b[0m    \u001b[0mproperties\u001b[0m\u001b[1;33m:\u001b[0m \u001b[0mdict\u001b[0m\u001b[1;33m,\u001b[0m\u001b[1;33m\n",
       "\u001b[0m    \u001b[0mfiles\u001b[0m\u001b[1;33m:\u001b[0m \u001b[0mlist\u001b[0m\u001b[1;33m,\u001b[0m\u001b[1;33m\n",
       "\u001b[0m    \u001b[0mdoi\u001b[0m\u001b[1;33m:\u001b[0m \u001b[0mstr\u001b[0m\u001b[1;33m,\u001b[0m\u001b[1;33m\n",
       "\u001b[0m    \u001b[0mdescription\u001b[0m\u001b[1;33m:\u001b[0m \u001b[0mstr\u001b[0m\u001b[1;33m,\u001b[0m\u001b[1;33m\n",
       "\u001b[0m    \u001b[0mlicense\u001b[0m\u001b[1;33m:\u001b[0m \u001b[0mstr\u001b[0m\u001b[1;33m,\u001b[0m\u001b[1;33m\n",
       "\u001b[0m    \u001b[0mactivation_date\u001b[0m\u001b[1;33m:\u001b[0m \u001b[0mstr\u001b[0m\u001b[1;33m,\u001b[0m\u001b[1;33m\n",
       "\u001b[0m    \u001b[0mexpiration_date\u001b[0m\u001b[1;33m:\u001b[0m \u001b[0mstr\u001b[0m\u001b[1;33m,\u001b[0m\u001b[1;33m\n",
       "\u001b[0m\u001b[1;33m)\u001b[0m \u001b[1;33m->\u001b[0m \u001b[1;32mNone\u001b[0m\u001b[1;33m\u001b[0m\u001b[1;33m\u001b[0m\u001b[0m\n",
       "\u001b[1;31mDocstring:\u001b[0m      dataset data from PINAR data API.\n",
       "\u001b[1;31mFile:\u001b[0m           c:\\users\\me\\polybox\\workshop\\pinar_python\\pinar\\util\\api_client.py\n",
       "\u001b[1;31mType:\u001b[0m           type\n",
       "\u001b[1;31mSubclasses:\u001b[0m     \n"
      ]
     },
     "metadata": {},
     "output_type": "display_data"
    }
   ],
   "source": [
    "from pinar.util.api_client import DatasetInfo\n",
    "DatasetInfo?"
   ]
  },
  {
   "attachments": {},
   "cell_type": "markdown",
   "metadata": {},
   "source": [
    "where files is a list of `FileInfo` objects:"
   ]
  },
  {
   "cell_type": "code",
   "execution_count": 20,
   "metadata": {},
   "outputs": [
    {
     "data": {
      "text/plain": [
       "\u001b[1;31mInit signature:\u001b[0m\n",
       "\u001b[0mFileInfo\u001b[0m\u001b[1;33m(\u001b[0m\u001b[1;33m\n",
       "\u001b[0m    \u001b[0muuid\u001b[0m\u001b[1;33m:\u001b[0m \u001b[0mstr\u001b[0m\u001b[1;33m,\u001b[0m\u001b[1;33m\n",
       "\u001b[0m    \u001b[0murl\u001b[0m\u001b[1;33m:\u001b[0m \u001b[0mstr\u001b[0m\u001b[1;33m,\u001b[0m\u001b[1;33m\n",
       "\u001b[0m    \u001b[0mfile_name\u001b[0m\u001b[1;33m:\u001b[0m \u001b[0mstr\u001b[0m\u001b[1;33m,\u001b[0m\u001b[1;33m\n",
       "\u001b[0m    \u001b[0mfile_format\u001b[0m\u001b[1;33m:\u001b[0m \u001b[0mstr\u001b[0m\u001b[1;33m,\u001b[0m\u001b[1;33m\n",
       "\u001b[0m    \u001b[0mfile_size\u001b[0m\u001b[1;33m:\u001b[0m \u001b[0mint\u001b[0m\u001b[1;33m,\u001b[0m\u001b[1;33m\n",
       "\u001b[0m    \u001b[0mcheck_sum\u001b[0m\u001b[1;33m:\u001b[0m \u001b[0mstr\u001b[0m\u001b[1;33m,\u001b[0m\u001b[1;33m\n",
       "\u001b[0m\u001b[1;33m)\u001b[0m \u001b[1;33m->\u001b[0m \u001b[1;32mNone\u001b[0m\u001b[1;33m\u001b[0m\u001b[1;33m\u001b[0m\u001b[0m\n",
       "\u001b[1;31mDocstring:\u001b[0m      file data from PINAR data API.\n",
       "\u001b[1;31mFile:\u001b[0m           c:\\users\\me\\polybox\\workshop\\pinar_python\\pinar\\util\\api_client.py\n",
       "\u001b[1;31mType:\u001b[0m           type\n",
       "\u001b[1;31mSubclasses:\u001b[0m     \n"
      ]
     },
     "metadata": {},
     "output_type": "display_data"
    }
   ],
   "source": [
    "from pinar.util.api_client import FileInfo\n",
    "FileInfo?"
   ]
  },
  {
   "attachments": {},
   "cell_type": "markdown",
   "metadata": {},
   "source": [
    "#### Convert into DataFrame\n",
    "There are conveinience functions to easily convert datasets into pandas DataFrames, `get_datasets` and `expand_files`:"
   ]
  },
  {
   "cell_type": "code",
   "execution_count": 21,
   "metadata": {},
   "outputs": [
    {
     "data": {
      "text/plain": [
       "\u001b[1;31mSignature:\u001b[0m \u001b[0mclient\u001b[0m\u001b[1;33m.\u001b[0m\u001b[0minto_datasets_df\u001b[0m\u001b[1;33m(\u001b[0m\u001b[0mdataset_infos\u001b[0m\u001b[1;33m)\u001b[0m\u001b[1;33m\u001b[0m\u001b[1;33m\u001b[0m\u001b[0m\n",
       "\u001b[1;31mDocstring:\u001b[0m\n",
       "Convenience function providing a DataFrame of datasets with properties.\n",
       "\n",
       "Parameters\n",
       "----------\n",
       "dataset_infos : list of DatasetInfo\n",
       "     as returned by list_dataset_infos\n",
       "\n",
       "Returns\n",
       "-------\n",
       "pandas.DataFrame\n",
       "    of datasets with properties as found in query by arguments\n",
       "\u001b[1;31mFile:\u001b[0m      c:\\users\\me\\polybox\\workshop\\pinar_python\\pinar\\util\\api_client.py\n",
       "\u001b[1;31mType:\u001b[0m      function\n"
      ]
     },
     "metadata": {},
     "output_type": "display_data"
    }
   ],
   "source": [
    "client.into_datasets_df?"
   ]
  },
  {
   "cell_type": "code",
   "execution_count": 22,
   "metadata": {},
   "outputs": [
    {
     "data": {
      "text/html": [
       "<div>\n",
       "<style scoped>\n",
       "    .dataframe tbody tr th:only-of-type {\n",
       "        vertical-align: middle;\n",
       "    }\n",
       "\n",
       "    .dataframe tbody tr th {\n",
       "        vertical-align: top;\n",
       "    }\n",
       "\n",
       "    .dataframe thead th {\n",
       "        text-align: right;\n",
       "    }\n",
       "</style>\n",
       "<table border=\"1\" class=\"dataframe\">\n",
       "  <thead>\n",
       "    <tr style=\"text-align: right;\">\n",
       "      <th></th>\n",
       "      <th>data_type</th>\n",
       "      <th>data_type_group</th>\n",
       "      <th>uuid</th>\n",
       "      <th>name</th>\n",
       "      <th>version</th>\n",
       "      <th>status</th>\n",
       "      <th>doi</th>\n",
       "      <th>description</th>\n",
       "      <th>license</th>\n",
       "      <th>activation_date</th>\n",
       "      <th>expiration_date</th>\n",
       "      <th>res_arcsec</th>\n",
       "      <th>exponents</th>\n",
       "      <th>fin_mode</th>\n",
       "      <th>spatial_coverage</th>\n",
       "      <th>date_creation</th>\n",
       "      <th>pinar_version</th>\n",
       "      <th>country_iso3alpha</th>\n",
       "      <th>country_name</th>\n",
       "      <th>country_iso3num</th>\n",
       "    </tr>\n",
       "  </thead>\n",
       "  <tbody>\n",
       "    <tr>\n",
       "      <th>0</th>\n",
       "      <td>litpop</td>\n",
       "      <td>exposures</td>\n",
       "      <td>b1c76120-4e60-4d8f-99c0-7e1e7b7860ec</td>\n",
       "      <td>LitPop_assets_pc_150arcsec_SGS</td>\n",
       "      <td>v1</td>\n",
       "      <td>active</td>\n",
       "      <td>None</td>\n",
       "      <td>LitPop asset value exposure per country: Gridd...</td>\n",
       "      <td>Attribution 4.0 International (CC BY 4.0)</td>\n",
       "      <td>2021-09-13 09:08:28.358559+00:00</td>\n",
       "      <td>None</td>\n",
       "      <td>150</td>\n",
       "      <td>(3,0)</td>\n",
       "      <td>pc</td>\n",
       "      <td>country</td>\n",
       "      <td>2021-09-23</td>\n",
       "      <td>v2.2.0</td>\n",
       "      <td>SGS</td>\n",
       "      <td>South Georgia and the South Sandwich Islands</td>\n",
       "      <td>239</td>\n",
       "    </tr>\n",
       "    <tr>\n",
       "      <th>1</th>\n",
       "      <td>litpop</td>\n",
       "      <td>exposures</td>\n",
       "      <td>3d516897-5f87-46e6-b673-9e6c00d110ec</td>\n",
       "      <td>LitPop_pop_150arcsec_SGS</td>\n",
       "      <td>v1</td>\n",
       "      <td>active</td>\n",
       "      <td>None</td>\n",
       "      <td>LitPop population exposure per country: Gridde...</td>\n",
       "      <td>Attribution 4.0 International (CC BY 4.0)</td>\n",
       "      <td>2021-09-13 09:09:10.634374+00:00</td>\n",
       "      <td>None</td>\n",
       "      <td>150</td>\n",
       "      <td>(0,1)</td>\n",
       "      <td>pop</td>\n",
       "      <td>country</td>\n",
       "      <td>2021-09-23</td>\n",
       "      <td>v2.2.0</td>\n",
       "      <td>SGS</td>\n",
       "      <td>South Georgia and the South Sandwich Islands</td>\n",
       "      <td>239</td>\n",
       "    </tr>\n",
       "    <tr>\n",
       "      <th>2</th>\n",
       "      <td>litpop</td>\n",
       "      <td>exposures</td>\n",
       "      <td>a6864a65-36a2-4701-91bc-81b1355103b5</td>\n",
       "      <td>LitPop_150arcsec_SGS</td>\n",
       "      <td>v1</td>\n",
       "      <td>active</td>\n",
       "      <td>None</td>\n",
       "      <td>LitPop asset value exposure per country: Gridd...</td>\n",
       "      <td>Attribution 4.0 International (CC BY 4.0)</td>\n",
       "      <td>2021-09-13 09:09:30.907938+00:00</td>\n",
       "      <td>None</td>\n",
       "      <td>150</td>\n",
       "      <td>(1,1)</td>\n",
       "      <td>pc</td>\n",
       "      <td>country</td>\n",
       "      <td>2021-09-23</td>\n",
       "      <td>v2.2.0</td>\n",
       "      <td>SGS</td>\n",
       "      <td>South Georgia and the South Sandwich Islands</td>\n",
       "      <td>239</td>\n",
       "    </tr>\n",
       "  </tbody>\n",
       "</table>\n",
       "</div>"
      ],
      "text/plain": [
       "  data_type data_type_group                                  uuid  \\\n",
       "0    litpop       exposures  b1c76120-4e60-4d8f-99c0-7e1e7b7860ec   \n",
       "1    litpop       exposures  3d516897-5f87-46e6-b673-9e6c00d110ec   \n",
       "2    litpop       exposures  a6864a65-36a2-4701-91bc-81b1355103b5   \n",
       "\n",
       "                             name version  status   doi  \\\n",
       "0  LitPop_assets_pc_150arcsec_SGS      v1  active  None   \n",
       "1        LitPop_pop_150arcsec_SGS      v1  active  None   \n",
       "2            LitPop_150arcsec_SGS      v1  active  None   \n",
       "\n",
       "                                         description  \\\n",
       "0  LitPop asset value exposure per country: Gridd...   \n",
       "1  LitPop population exposure per country: Gridde...   \n",
       "2  LitPop asset value exposure per country: Gridd...   \n",
       "\n",
       "                                     license  \\\n",
       "0  Attribution 4.0 International (CC BY 4.0)   \n",
       "1  Attribution 4.0 International (CC BY 4.0)   \n",
       "2  Attribution 4.0 International (CC BY 4.0)   \n",
       "\n",
       "                    activation_date expiration_date res_arcsec exponents  \\\n",
       "0  2021-09-13 09:08:28.358559+00:00            None        150     (3,0)   \n",
       "1  2021-09-13 09:09:10.634374+00:00            None        150     (0,1)   \n",
       "2  2021-09-13 09:09:30.907938+00:00            None        150     (1,1)   \n",
       "\n",
       "  fin_mode spatial_coverage date_creation pinar_version country_iso3alpha  \\\n",
       "0       pc          country    2021-09-23          v2.2.0               SGS   \n",
       "1      pop          country    2021-09-23          v2.2.0               SGS   \n",
       "2       pc          country    2021-09-23          v2.2.0               SGS   \n",
       "\n",
       "                                   country_name country_iso3num  \n",
       "0  South Georgia and the South Sandwich Islands             239  \n",
       "1  South Georgia and the South Sandwich Islands             239  \n",
       "2  South Georgia and the South Sandwich Islands             239  "
      ]
     },
     "execution_count": 22,
     "metadata": {},
     "output_type": "execute_result"
    }
   ],
   "source": [
    "from pinar.util.api_client import Client\n",
    "client = Client()\n",
    "litpop_datasets = client.list_dataset_infos(data_type='litpop', properties={'country_name': 'South Georgia and the South Sandwich Islands'})\n",
    "litpop_df = client.into_datasets_df(litpop_datasets)\n",
    "litpop_df"
   ]
  },
  {
   "attachments": {},
   "cell_type": "markdown",
   "metadata": {
    "tags": []
   },
   "source": [
    "### Download\n",
    "\n",
    "The wrapper functions get_exposures or get_hazard fetch the information, download the file and opens the file as a pinar object. But one can also just download dataset files using the method `download_dataset` which takes a `DatasetInfo` object as argument and downloads all files of the dataset to a directory in the local file system."
   ]
  },
  {
   "cell_type": "code",
   "execution_count": 23,
   "metadata": {
    "tags": []
   },
   "outputs": [
    {
     "data": {
      "text/plain": [
       "\u001b[1;31mSignature:\u001b[0m\n",
       "\u001b[0mclient\u001b[0m\u001b[1;33m.\u001b[0m\u001b[0mdownload_dataset\u001b[0m\u001b[1;33m(\u001b[0m\u001b[1;33m\n",
       "\u001b[0m    \u001b[0mdataset\u001b[0m\u001b[1;33m,\u001b[0m\u001b[1;33m\n",
       "\u001b[0m    \u001b[0mtarget_dir\u001b[0m\u001b[1;33m=\u001b[0m\u001b[0mWindowsPath\u001b[0m\u001b[1;33m(\u001b[0m\u001b[1;34m'C:/Users/me/pinar/data'\u001b[0m\u001b[1;33m)\u001b[0m\u001b[1;33m,\u001b[0m\u001b[1;33m\n",
       "\u001b[0m    \u001b[0morganize_path\u001b[0m\u001b[1;33m=\u001b[0m\u001b[1;32mTrue\u001b[0m\u001b[1;33m,\u001b[0m\u001b[1;33m\n",
       "\u001b[0m\u001b[1;33m)\u001b[0m\u001b[1;33m\u001b[0m\u001b[1;33m\u001b[0m\u001b[0m\n",
       "\u001b[1;31mDocstring:\u001b[0m\n",
       "Download all files from a given dataset to a given directory.\n",
       "\n",
       "Parameters\n",
       "----------\n",
       "dataset : DatasetInfo\n",
       "    the dataset\n",
       "target_dir : Path, optional\n",
       "    target directory for download, by default `pinar.util.constants.SYSTEM_DIR`\n",
       "organize_path: bool, optional\n",
       "    if set to True the files will end up in subdirectories of target_dir:\n",
       "    [target_dir]/[data_type_group]/[data_type]/[name]/[version]\n",
       "    by default True\n",
       "\n",
       "Returns\n",
       "-------\n",
       "download_dir : Path\n",
       "    the path to the directory containing the downloaded files,\n",
       "    will be created if organize_path is True\n",
       "downloaded_files : list of Path\n",
       "    the downloaded files themselves\n",
       "\n",
       "Raises\n",
       "------\n",
       "Exception\n",
       "    when one of the files cannot be downloaded\n",
       "\u001b[1;31mFile:\u001b[0m      c:\\users\\me\\polybox\\workshop\\pinar_python\\pinar\\util\\api_client.py\n",
       "\u001b[1;31mType:\u001b[0m      method\n"
      ]
     },
     "metadata": {},
     "output_type": "display_data"
    }
   ],
   "source": [
    "client.download_dataset?"
   ]
  },
  {
   "attachments": {},
   "cell_type": "markdown",
   "metadata": {
    "tags": []
   },
   "source": [
    "#### Cache\n",
    "The method avoids superfluous downloads by keeping track of all downloads in a sqlite db file. The client will make sure that the same file is never downloaded to the same target twice.\n",
    "\n",
    "#### Examples"
   ]
  },
  {
   "cell_type": "code",
   "execution_count": 24,
   "metadata": {},
   "outputs": [
    {
     "data": {
      "text/plain": [
       "(WindowsPath('C:/Users/me/pinar/data/exposures/litpop/LitPop_assets_pc_150arcsec_SGS/v1/LitPop_assets_pc_150arcsec_SGS.hdf5'),\n",
       " True)"
      ]
     },
     "execution_count": 24,
     "metadata": {},
     "output_type": "execute_result"
    }
   ],
   "source": [
    "# Let's have a look at an example for downloading a litpop dataset first\n",
    "ds = litpop_datasets[0]  # litpop_datasets is a list and download_dataset expects a single object as argument.\n",
    "download_dir, ds_files = client.download_dataset(ds)\n",
    "ds_files[0], ds_files[0].is_file()"
   ]
  },
  {
   "cell_type": "code",
   "execution_count": 8,
   "metadata": {},
   "outputs": [
    {
     "data": {
      "text/plain": [
       "(PosixPath('/home/yuyue/pinar/data/hazard/tropical_cyclone/tropical_cyclone_50synth_tracks_150arcsec_rcp26_BRA_2040/v1/tropical_cyclone_50synth_tracks_150arcsec_rcp26_BRA_2040.hdf5'),\n",
       " True)"
      ]
     },
     "execution_count": 8,
     "metadata": {},
     "output_type": "execute_result"
    }
   ],
   "source": [
    "# Another example for downloading a hazard (tropical cyclone) dataset\n",
    "ds_tc = tc_dataset_infos[0] \n",
    "download_dir, ds_files = client.download_dataset(ds_tc)\n",
    "ds_files[0], ds_files[0].is_file()"
   ]
  },
  {
   "attachments": {},
   "cell_type": "markdown",
   "metadata": {
    "tags": []
   },
   "source": [
    "### Offline Mode\n",
    "\n",
    "The API Client is silently used in many methods and functions of PINAR, including the installation test that is run to see whether the PINAR installation was successful.\n",
    "Most methods of the client send GET requests to the API server assuming the latter is accessible through a working internet connection.\n",
    "If this is not the case, the functionality of PINAR is severely limited if not altogether lost. Often this is an unnecessary restriction, \n",
    "e.g., when a user wants to access a file through the API Client that is already downloaded and available in the local filesystem.\n",
    "\n",
    "In such cases the API Client runs in _offline mode_.\n",
    "In this mode the client falls back to previous results for the same call in case there is no internet connection or the server is not accessible.\n",
    "\n",
    "To turn this feature off and make sure that all results are current and up to date - at the cost of failing when there is no internet connection - one has to disable tha _cache_.\n",
    "This can be done programmatically, by initializing the API Client with the optional argument `cache_enabled`:"
   ]
  },
  {
   "cell_type": "code",
   "execution_count": null,
   "metadata": {},
   "outputs": [],
   "source": [
    "client = Client(cache_enabled=False)"
   ]
  },
  {
   "attachments": {},
   "cell_type": "markdown",
   "metadata": {},
   "source": [
    "Or it can be done through configuration. Edit the `pinar.conf` file in the working directory or in ~/pinar/ and change the \"cache_enabled\" value, like this:\n",
    "\n",
    "```javascript\n",
    "...\n",
    "    \"data_api\": {\n",
    "        ...\n",
    "        \"cache_enabled\": false\n",
    "    },\n",
    "...\n",
    "```\n",
    "\n",
    "While `cache_enabled` is `true` (default), every result from the server is stored as a json file in ~/pinar/data/.apicache/ by a unique name derived from the method and arguments of the call.\n",
    "If the very same call is made again later, at a time where the server is not accessible, the client just comes back to the cached result from the previous call."
   ]
  }
 ],
 "metadata": {
  "kernelspec": {
   "display_name": "Python 3 (ipykernel)",
   "language": "python",
   "name": "python3"
  },
  "language_info": {
   "codemirror_mode": {
    "name": "ipython",
    "version": 3
   },
   "file_extension": ".py",
   "mimetype": "text/x-python",
   "name": "python",
   "nbconvert_exporter": "python",
   "pygments_lexer": "ipython3",
   "version": "3.8.13"
  }
 },
 "nbformat": 4,
 "nbformat_minor": 4
}
